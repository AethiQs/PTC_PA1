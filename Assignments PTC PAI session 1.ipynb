{
 "cells": [
  {
   "cell_type": "markdown",
   "metadata": {},
   "source": [
    "## Assignments PTC PA1 session 1\n",
    "\n",
    "Name: Mark Verschuren  \n",
    "Date: 8 october 2022"
   ]
  },
  {
   "cell_type": "code",
   "execution_count": null,
   "metadata": {},
   "outputs": [],
   "source": []
  }
 ],
 "metadata": {
  "kernelspec": {
   "display_name": "Python 3.9.7 ('base')",
   "language": "python",
   "name": "python3"
  },
  "language_info": {
   "name": "python",
   "version": "3.9.7"
  },
  "orig_nbformat": 4,
  "vscode": {
   "interpreter": {
    "hash": "6cca3febc2ab9c7319b5cb95b849205979b785f3f5e8a66e444ce9c0abaadd62"
   }
  }
 },
 "nbformat": 4,
 "nbformat_minor": 2
}
